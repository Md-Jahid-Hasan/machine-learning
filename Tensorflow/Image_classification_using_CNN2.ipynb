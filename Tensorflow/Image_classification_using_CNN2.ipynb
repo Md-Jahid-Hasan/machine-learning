{
  "nbformat": 4,
  "nbformat_minor": 0,
  "metadata": {
    "colab": {
      "name": "Image classification using CNN2.ipynb",
      "provenance": [],
      "collapsed_sections": []
    },
    "kernelspec": {
      "name": "python3",
      "display_name": "Python 3"
    },
    "language_info": {
      "name": "python"
    },
    "accelerator": "GPU"
  },
  "cells": [
    {
      "cell_type": "code",
      "metadata": {
        "colab": {
          "base_uri": "https://localhost:8080/"
        },
        "id": "I7jDCVZZBLoQ",
        "outputId": "52eb55bf-ca2c-4bf3-d669-17bead6ed3de"
      },
      "source": [
        "from google.colab import drive\n",
        "drive.mount('/content/gdrive')"
      ],
      "execution_count": null,
      "outputs": [
        {
          "output_type": "stream",
          "text": [
            "Mounted at /content/gdrive\n"
          ],
          "name": "stdout"
        }
      ]
    },
    {
      "cell_type": "code",
      "metadata": {
        "id": "TIxoUXD-BZ0d"
      },
      "source": [
        "import cv2 as cv"
      ],
      "execution_count": null,
      "outputs": []
    },
    {
      "cell_type": "code",
      "metadata": {
        "id": "2qFPXFDyFjxx"
      },
      "source": [
        "import tensorflow as tf\n",
        "from tensorflow import keras\n",
        "from tensorflow.keras import datasets, layers, models\n",
        "import matplotlib.pyplot as plt\n",
        "import numpy as np\n",
        "from keras.preprocessing.image import ImageDataGenerator"
      ],
      "execution_count": null,
      "outputs": []
    },
    {
      "cell_type": "code",
      "metadata": {
        "colab": {
          "base_uri": "https://localhost:8080/"
        },
        "id": "CbrpPXgJF_Jf",
        "outputId": "3335c030-dd91-44b9-8847-556d03805612"
      },
      "source": [
        "(x_train, y_train), (x_test, y_test) = datasets.cifar10.load_data()\n",
        "x_train.shape"
      ],
      "execution_count": null,
      "outputs": [
        {
          "output_type": "stream",
          "text": [
            "Downloading data from https://www.cs.toronto.edu/~kriz/cifar-10-python.tar.gz\n",
            "170500096/170498071 [==============================] - 11s 0us/step\n"
          ],
          "name": "stdout"
        },
        {
          "output_type": "execute_result",
          "data": {
            "text/plain": [
              "(50000, 32, 32, 3)"
            ]
          },
          "metadata": {
            "tags": []
          },
          "execution_count": 4
        }
      ]
    },
    {
      "cell_type": "code",
      "metadata": {
        "colab": {
          "base_uri": "https://localhost:8080/"
        },
        "id": "ikgg0HNZGQZG",
        "outputId": "e7f23d72-7353-49ab-fc0d-27ae5d56b608"
      },
      "source": [
        "y_train.shape, x_test.shape"
      ],
      "execution_count": null,
      "outputs": [
        {
          "output_type": "execute_result",
          "data": {
            "text/plain": [
              "((50000, 1), (10000, 32, 32, 3))"
            ]
          },
          "metadata": {
            "tags": []
          },
          "execution_count": 5
        }
      ]
    },
    {
      "cell_type": "code",
      "metadata": {
        "colab": {
          "base_uri": "https://localhost:8080/"
        },
        "id": "Sk3-DKRiGcYt",
        "outputId": "8778121d-eeb1-4a5e-cba2-c7d76f4e39bc"
      },
      "source": [
        "y_train[:5]"
      ],
      "execution_count": null,
      "outputs": [
        {
          "output_type": "execute_result",
          "data": {
            "text/plain": [
              "array([[6],\n",
              "       [9],\n",
              "       [9],\n",
              "       [4],\n",
              "       [1]], dtype=uint8)"
            ]
          },
          "metadata": {
            "tags": []
          },
          "execution_count": 6
        }
      ]
    },
    {
      "cell_type": "code",
      "metadata": {
        "colab": {
          "base_uri": "https://localhost:8080/"
        },
        "id": "qFhE5otBGe_W",
        "outputId": "15afd6db-45e1-4ca3-8454-f6908de471a6"
      },
      "source": [
        "y_train = y_train.reshape(-1,)\n",
        "y_test = y_test.reshape(-1,)\n",
        "y_train[:5], y_test[:5]"
      ],
      "execution_count": null,
      "outputs": [
        {
          "output_type": "execute_result",
          "data": {
            "text/plain": [
              "(array([6, 9, 9, 4, 1], dtype=uint8), array([3, 8, 8, 0, 6], dtype=uint8))"
            ]
          },
          "metadata": {
            "tags": []
          },
          "execution_count": 7
        }
      ]
    },
    {
      "cell_type": "code",
      "metadata": {
        "id": "3k_GggRAGnO-"
      },
      "source": [
        "classes = [\"airplane\",\"automobile\",\"bird\",\"cat\",\"deer\",\"dog\",\"frog\",\"horse\",\"ship\",\"truck\"]"
      ],
      "execution_count": null,
      "outputs": []
    },
    {
      "cell_type": "code",
      "metadata": {
        "id": "QtvTo8BGHC-c"
      },
      "source": [
        "def show_image(x, y, index):\n",
        "  plt.figure(figsize=(15,2))\n",
        "  plt.imshow(x[index])\n",
        "  plt.xlabel(classes[y[index]])"
      ],
      "execution_count": null,
      "outputs": []
    },
    {
      "cell_type": "code",
      "metadata": {
        "colab": {
          "base_uri": "https://localhost:8080/",
          "height": 173
        },
        "id": "AYw-EYoiHZkt",
        "outputId": "0e9041c2-2099-466c-88dc-287a83b7c1f5"
      },
      "source": [
        "show_image(x_train, y_train, 0)"
      ],
      "execution_count": null,
      "outputs": [
        {
          "output_type": "display_data",
          "data": {
            "image/png": "[encoded data removed]",
            "text/plain": [
              "<Figure size 1080x144 with 1 Axes>"
            ]
          },
          "metadata": {
            "tags": [],
            "needs_background": "light"
          }
        }
      ]
    },
    {
      "cell_type": "code",
      "metadata": {
        "id": "gGUwNT5oI3Lr"
      },
      "source": [
        "x_train = x_train / 255.0\n",
        "x_test = x_test / 255.0"
      ],
      "execution_count": null,
      "outputs": []
    },
    {
      "cell_type": "code",
      "metadata": {
        "id": "ZBeuGOnQxGyU"
      },
      "source": [
        "data_augmentation = keras.Sequential([\n",
        "    layers.experimental.preprocessing.RandomFlip(\"horizontal\"),\n",
        "    layers.experimental.preprocessing.RandomRotation(0.1),\n",
        "    layers.experimental.preprocessing.RandomZoom(0.1),\n",
        "])"
      ],
      "execution_count": null,
      "outputs": []
    },
    {
      "cell_type": "code",
      "metadata": {
        "id": "KjmvDI1q_XPE"
      },
      "source": [
        "# genarator = ImageDataGenerator(\n",
        "#     rescale=1./255,\n",
        "#     rotation_range=45,\n",
        "#     horizontal_flip=True,\n",
        "#     vertical_flip=True,\n",
        "#     zoom_range=0.2,\n",
        "#     shear_range=0.1,\n",
        "#     fill_mode='reflect'\n",
        "# )"
      ],
      "execution_count": null,
      "outputs": []
    },
    {
      "cell_type": "code",
      "metadata": {
        "id": "3xtz6PA4AII9"
      },
      "source": [
        "# from sklearn.model_selection import train_test_split\n",
        "# _, x_validation, _, y_validation = train_test_split(x_train, y_train, test_size=0.2)"
      ],
      "execution_count": null,
      "outputs": []
    },
    {
      "cell_type": "code",
      "metadata": {
        "id": "_d-nlYFuJf2U"
      },
      "source": [
        "model = models.Sequential([\n",
        "        data_augmentation,\n",
        "        layers.Conv2D(filters=64, kernel_size=(3,3), padding='same',\n",
        "                      activation='relu', input_shape=(32,32,3)),\n",
        "        layers.MaxPooling2D((2, 2)),\n",
        "\n",
        "        layers.Conv2D(filters=128, kernel_size=(3,3), padding='same',\n",
        "                      activation='relu'),\n",
        "        layers.MaxPooling2D((2, 2)),\n",
        "\n",
        "        layers.Conv2D(filters=256, kernel_size=(3,3), padding='same',\n",
        "                      activation='relu'),\n",
        "        layers.MaxPooling2D((2, 2)),\n",
        "\n",
        "        layers.Flatten(),\n",
        "        #kernel_regularizer=keras.regularizers.l2(0.001)\n",
        "        layers.Dense(256, activation='relu'),\n",
        "        #layers.Dropout(0.3),\n",
        "        layers.Dense(128, activation='relu'),\n",
        "        #layers.Dropout(0.3),\n",
        "        layers.Dense(10, activation='softmax')\n",
        "])\n",
        "\n",
        "model.compile(optimizer=keras.optimizers.Adam(learning_rate=0.001),\n",
        "              loss=keras.losses.SparseCategoricalCrossentropy(from_logits=True),\n",
        "              metrics=['accuracy'])"
      ],
      "execution_count": null,
      "outputs": []
    },
    {
      "cell_type": "code",
      "metadata": {
        "colab": {
          "base_uri": "https://localhost:8080/"
        },
        "id": "4tMIrs3vLkvi",
        "outputId": "2d01d157-d8eb-4506-ecc1-0a7eccd97f2d"
      },
      "source": [
        "model.fit(x_train, y_train, epochs=30, validation_split=0.1, shuffle=1)"
      ],
      "execution_count": null,
      "outputs": [
        {
          "output_type": "stream",
          "text": [
            "Epoch 1/30\n"
          ],
          "name": "stdout"
        },
        {
          "output_type": "stream",
          "text": [
            "/usr/local/lib/python3.7/dist-packages/tensorflow/python/keras/backend.py:4930: UserWarning: \"`sparse_categorical_crossentropy` received `from_logits=True`, but the `output` argument was produced by a sigmoid or softmax activation and thus does not represent logits. Was this intended?\"\n",
            "  '\"`sparse_categorical_crossentropy` received `from_logits=True`, but '\n"
          ],
          "name": "stderr"
        },
        {
          "output_type": "stream",
          "text": [
            "1407/1407 [==============================] - 49s 13ms/step - loss: 1.6108 - accuracy: 0.4109 - val_loss: 1.4016 - val_accuracy: 0.5000\n",
            "Epoch 2/30\n",
            "1407/1407 [==============================] - 17s 12ms/step - loss: 1.2760 - accuracy: 0.5449 - val_loss: 1.1606 - val_accuracy: 0.5980\n",
            "Epoch 3/30\n",
            "1407/1407 [==============================] - 17s 12ms/step - loss: 1.1284 - accuracy: 0.6024 - val_loss: 0.9934 - val_accuracy: 0.6528\n",
            "Epoch 4/30\n",
            "1407/1407 [==============================] - 17s 12ms/step - loss: 1.0433 - accuracy: 0.6323 - val_loss: 0.9439 - val_accuracy: 0.6674\n",
            "Epoch 5/30\n",
            "1407/1407 [==============================] - 17s 12ms/step - loss: 0.9809 - accuracy: 0.6527 - val_loss: 0.9405 - val_accuracy: 0.6736\n",
            "Epoch 6/30\n",
            "1407/1407 [==============================] - 17s 12ms/step - loss: 0.9325 - accuracy: 0.6734 - val_loss: 0.9276 - val_accuracy: 0.6914\n",
            "Epoch 7/30\n",
            "1407/1407 [==============================] - 17s 12ms/step - loss: 0.8885 - accuracy: 0.6889 - val_loss: 0.9560 - val_accuracy: 0.6832\n",
            "Epoch 8/30\n",
            "1407/1407 [==============================] - 17s 12ms/step - loss: 0.8554 - accuracy: 0.6999 - val_loss: 0.8356 - val_accuracy: 0.7194\n",
            "Epoch 9/30\n",
            "1407/1407 [==============================] - 17s 12ms/step - loss: 0.8309 - accuracy: 0.7092 - val_loss: 0.8792 - val_accuracy: 0.7042\n",
            "Epoch 10/30\n",
            "1407/1407 [==============================] - 17s 12ms/step - loss: 0.8012 - accuracy: 0.7186 - val_loss: 0.7811 - val_accuracy: 0.7370\n",
            "Epoch 11/30\n",
            "1407/1407 [==============================] - 17s 12ms/step - loss: 0.7790 - accuracy: 0.7274 - val_loss: 0.9187 - val_accuracy: 0.7060\n",
            "Epoch 12/30\n",
            "1407/1407 [==============================] - 17s 12ms/step - loss: 0.7597 - accuracy: 0.7319 - val_loss: 0.7903 - val_accuracy: 0.7296\n",
            "Epoch 13/30\n",
            "1407/1407 [==============================] - 17s 12ms/step - loss: 0.7418 - accuracy: 0.7404 - val_loss: 0.9215 - val_accuracy: 0.7118\n",
            "Epoch 14/30\n",
            "1407/1407 [==============================] - 17s 12ms/step - loss: 0.7249 - accuracy: 0.7464 - val_loss: 0.8179 - val_accuracy: 0.7290\n",
            "Epoch 15/30\n",
            "1407/1407 [==============================] - 17s 12ms/step - loss: 0.7045 - accuracy: 0.7552 - val_loss: 0.8474 - val_accuracy: 0.7332\n",
            "Epoch 16/30\n",
            "1407/1407 [==============================] - 17s 12ms/step - loss: 0.6989 - accuracy: 0.7543 - val_loss: 0.7621 - val_accuracy: 0.7464\n",
            "Epoch 17/30\n",
            "1407/1407 [==============================] - 17s 12ms/step - loss: 0.6806 - accuracy: 0.7619 - val_loss: 0.7781 - val_accuracy: 0.7464\n",
            "Epoch 18/30\n",
            "1407/1407 [==============================] - 17s 12ms/step - loss: 0.6700 - accuracy: 0.7655 - val_loss: 0.8020 - val_accuracy: 0.7366\n",
            "Epoch 19/30\n",
            "1407/1407 [==============================] - 17s 12ms/step - loss: 0.6541 - accuracy: 0.7702 - val_loss: 0.7426 - val_accuracy: 0.7648\n",
            "Epoch 20/30\n",
            "1407/1407 [==============================] - 17s 12ms/step - loss: 0.6426 - accuracy: 0.7745 - val_loss: 0.8150 - val_accuracy: 0.7364\n",
            "Epoch 21/30\n",
            "1407/1407 [==============================] - 17s 12ms/step - loss: 0.6330 - accuracy: 0.7799 - val_loss: 0.8690 - val_accuracy: 0.7318\n",
            "Epoch 22/30\n",
            "1407/1407 [==============================] - 17s 12ms/step - loss: 0.6268 - accuracy: 0.7801 - val_loss: 0.7540 - val_accuracy: 0.7574\n",
            "Epoch 23/30\n",
            "1407/1407 [==============================] - 17s 12ms/step - loss: 0.6181 - accuracy: 0.7830 - val_loss: 0.7804 - val_accuracy: 0.7528\n",
            "Epoch 24/30\n",
            "1407/1407 [==============================] - 17s 12ms/step - loss: 0.6040 - accuracy: 0.7872 - val_loss: 0.7512 - val_accuracy: 0.7622\n",
            "Epoch 25/30\n",
            "1407/1407 [==============================] - 17s 12ms/step - loss: 0.5948 - accuracy: 0.7903 - val_loss: 0.7306 - val_accuracy: 0.7696\n",
            "Epoch 26/30\n",
            "1407/1407 [==============================] - 17s 12ms/step - loss: 0.5822 - accuracy: 0.7953 - val_loss: 0.7626 - val_accuracy: 0.7564\n",
            "Epoch 27/30\n",
            "1407/1407 [==============================] - 17s 12ms/step - loss: 0.5877 - accuracy: 0.7950 - val_loss: 0.7530 - val_accuracy: 0.7610\n",
            "Epoch 28/30\n",
            "1407/1407 [==============================] - 17s 12ms/step - loss: 0.5695 - accuracy: 0.8009 - val_loss: 0.7367 - val_accuracy: 0.7664\n",
            "Epoch 29/30\n",
            "1407/1407 [==============================] - 17s 12ms/step - loss: 0.5632 - accuracy: 0.8033 - val_loss: 0.7674 - val_accuracy: 0.7558\n",
            "Epoch 30/30\n",
            "1407/1407 [==============================] - 17s 12ms/step - loss: 0.5605 - accuracy: 0.8044 - val_loss: 0.7439 - val_accuracy: 0.7618\n"
          ],
          "name": "stdout"
        },
        {
          "output_type": "execute_result",
          "data": {
            "text/plain": [
              "<tensorflow.python.keras.callbacks.History at 0x7f18b0222710>"
            ]
          },
          "metadata": {
            "tags": []
          },
          "execution_count": 16
        }
      ]
    },
    {
      "cell_type": "code",
      "metadata": {
        "id": "GW7xf4eZDVNu"
      },
      "source": [
        "# genarator.flow(x_test)[0]\n"
      ],
      "execution_count": null,
      "outputs": []
    },
    {
      "cell_type": "code",
      "metadata": {
        "id": "1RRQ5ao1A4uM"
      },
      "source": [
        "# model.fit_generator(genarator.flow(x_test, y_test), epochs=25)"
      ],
      "execution_count": null,
      "outputs": []
    },
    {
      "cell_type": "code",
      "metadata": {
        "colab": {
          "base_uri": "https://localhost:8080/"
        },
        "id": "aujmJBmFNtvf",
        "outputId": "e73f3b89-c4d8-47df-896e-31eff2d8727b"
      },
      "source": [
        "model.evaluate(x_test, y_test)"
      ],
      "execution_count": null,
      "outputs": [
        {
          "output_type": "stream",
          "text": [
            "313/313 [==============================] - 2s 5ms/step - loss: 0.7826 - accuracy: 0.7561\n"
          ],
          "name": "stdout"
        },
        {
          "output_type": "execute_result",
          "data": {
            "text/plain": [
              "[0.7825875282287598, 0.7560999989509583]"
            ]
          },
          "metadata": {
            "tags": []
          },
          "execution_count": 19
        }
      ]
    },
    {
      "cell_type": "code",
      "metadata": {
        "colab": {
          "base_uri": "https://localhost:8080/"
        },
        "id": "Uz1E7Qz2ejZg",
        "outputId": "737ec343-82c5-46d2-c02f-8ee20c95093f"
      },
      "source": [
        "from sklearn.metrics import classification_report\n",
        "pred = [np.argmax(i) for i in model.predict(x_test)]\n",
        "print(classification_report(y_test, pred))"
      ],
      "execution_count": null,
      "outputs": [
        {
          "output_type": "stream",
          "text": [
            "              precision    recall  f1-score   support\n",
            "\n",
            "           0       0.76      0.80      0.78      1000\n",
            "           1       0.84      0.89      0.86      1000\n",
            "           2       0.79      0.63      0.70      1000\n",
            "           3       0.68      0.47      0.56      1000\n",
            "           4       0.77      0.69      0.72      1000\n",
            "           5       0.62      0.72      0.67      1000\n",
            "           6       0.72      0.86      0.79      1000\n",
            "           7       0.77      0.81      0.79      1000\n",
            "           8       0.90      0.81      0.85      1000\n",
            "           9       0.73      0.86      0.79      1000\n",
            "\n",
            "    accuracy                           0.76     10000\n",
            "   macro avg       0.76      0.76      0.75     10000\n",
            "weighted avg       0.76      0.76      0.75     10000\n",
            "\n"
          ],
          "name": "stdout"
        }
      ]
    },
    {
      "cell_type": "code",
      "metadata": {
        "colab": {
          "base_uri": "https://localhost:8080/"
        },
        "id": "_FRDMoHoQOEq",
        "outputId": "06cba4bc-5040-423b-967e-27db1ca3c0ee"
      },
      "source": [
        "prediction = [classes[i] for i in pred]\n",
        "prediction[:5]"
      ],
      "execution_count": null,
      "outputs": [
        {
          "output_type": "execute_result",
          "data": {
            "text/plain": [
              "['dog', 'ship', 'ship', 'airplane', 'frog']"
            ]
          },
          "metadata": {
            "tags": []
          },
          "execution_count": 21
        }
      ]
    },
    {
      "cell_type": "code",
      "metadata": {
        "colab": {
          "base_uri": "https://localhost:8080/"
        },
        "id": "Qorn17U8hUV9",
        "outputId": "104fac84-2393-470f-ed3a-7dbfea2af436"
      },
      "source": [
        "for i in range(5):\n",
        "  show_image(x_test, y_test, i)"
      ],
      "execution_count": null,
      "outputs": [
        {
          "output_type": "display_data",
          "data": {
            "image/png": "[encoded data removed]",
            "text/plain": [
              "<Figure size 1080x144 with 1 Axes>"
            ]
          },
          "metadata": {
            "tags": [],
            "needs_background": "light"
          }
        },
        {
          "output_type": "display_data",
          "data": {
            "image/png": "[encoded data removed]",
            "text/plain": [
              "<Figure size 1080x144 with 1 Axes>"
            ]
          },
          "metadata": {
            "tags": [],
            "needs_background": "light"
          }
        },
        {
          "output_type": "display_data",
          "data": {
            "image/png": "[encoded data removed]",
            "text/plain": [
              "<Figure size 1080x144 with 1 Axes>"
            ]
          },
          "metadata": {
            "tags": [],
            "needs_background": "light"
          }
        },
        {
          "output_type": "display_data",
          "data": {
            "image/png": "[encoded data removed]",
            "text/plain": [
              "<Figure size 1080x144 with 1 Axes>"
            ]
          },
          "metadata": {
            "tags": [],
            "needs_background": "light"
          }
        },
        {
          "output_type": "display_data",
          "data": {
            "image/png": "[encoded data removed]",
            "text/plain": [
              "<Figure size 1080x144 with 1 Axes>"
            ]
          },
          "metadata": {
            "tags": [],
            "needs_background": "light"
          }
        }
      ]
    },
    {
      "cell_type": "code",
      "metadata": {
        "colab": {
          "base_uri": "https://localhost:8080/"
        },
        "id": "RCRlwXzj8aaP",
        "outputId": "74eed9db-c4a3-43b3-880c-cf2de2c22d81"
      },
      "source": [
        "x_test[0].shape"
      ],
      "execution_count": null,
      "outputs": [
        {
          "output_type": "execute_result",
          "data": {
            "text/plain": [
              "(32, 32, 3)"
            ]
          },
          "metadata": {
            "tags": []
          },
          "execution_count": 23
        }
      ]
    },
    {
      "cell_type": "code",
      "metadata": {
        "id": "lYlH4Ghi8myo"
      },
      "source": [
        "def prepare_test_image(path):\n",
        "  img = cv.imread(path)\n",
        "  img = cv.resize(img, (32,32))\n",
        "  img = img.reshape(-1, 32, 32, 3)\n",
        "  img.shape\n",
        "  return img"
      ],
      "execution_count": null,
      "outputs": []
    },
    {
      "cell_type": "code",
      "metadata": {
        "id": "Sen0jnVzCFZr"
      },
      "source": [
        "img = prepare_test_image('gdrive/MyDrive/Colab Notebooks/Dataset/truck3.jpg')\n",
        "#plt.imshow(img, cmap='gray')"
      ],
      "execution_count": null,
      "outputs": []
    },
    {
      "cell_type": "code",
      "metadata": {
        "colab": {
          "base_uri": "https://localhost:8080/"
        },
        "id": "z_bPJYEzCZ3M",
        "outputId": "6a022fd3-90e7-456b-bb5a-d17dfc584b66"
      },
      "source": [
        "classes[np.argmax(model.predict(img))]"
      ],
      "execution_count": null,
      "outputs": [
        {
          "output_type": "execute_result",
          "data": {
            "application/vnd.google.colaboratory.intrinsic+json": {
              "type": "string"
            },
            "text/plain": [
              "'truck'"
            ]
          },
          "metadata": {
            "tags": []
          },
          "execution_count": 26
        }
      ]
    },
    {
      "cell_type": "code",
      "metadata": {
        "id": "TepevSIhC1Xk"
      },
      "source": [
        ""
      ],
      "execution_count": null,
      "outputs": []
    }
  ]
}