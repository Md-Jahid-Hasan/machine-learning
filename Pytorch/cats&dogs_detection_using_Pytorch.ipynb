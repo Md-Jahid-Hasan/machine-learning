{
  "nbformat": 4,
  "nbformat_minor": 0,
  "metadata": {
    "colab": {
      "name": "cats&dogs detection using Pytorch.ipynb",
      "provenance": []
    },
    "kernelspec": {
      "name": "python3",
      "display_name": "Python 3"
    },
    "language_info": {
      "name": "python"
    },
    "accelerator": "GPU"
  },
  "cells": [
    {
      "cell_type": "code",
      "metadata": {
        "id": "pgzbiXVHVra7"
      },
      "source": [
        "import torch\n",
        "import numpy as np\n",
        "import torchvision\n",
        "from torchvision import transforms\n",
        "import matplotlib.pyplot as plt\n",
        "import torch.nn as nn\n",
        "import torch.nn.functional as F\n",
        "import torch.optim as optim\n",
        "from torch.utils.data import DataLoader, Dataset"
      ],
      "execution_count": null,
      "outputs": []
    },
    {
      "cell_type": "code",
      "metadata": {
        "colab": {
          "base_uri": "https://localhost:8080/"
        },
        "id": "RevqkirNZxuE",
        "outputId": "6390e54e-e157-4b7a-e2c5-8e5c182a1f6a"
      },
      "source": [
        "from google.colab import drive\n",
        "drive.mount('/content/gdrive')"
      ],
      "execution_count": null,
      "outputs": [
        {
          "output_type": "stream",
          "text": [
            "Mounted at /content/gdrive\n"
          ],
          "name": "stdout"
        }
      ]
    },
    {
      "cell_type": "code",
      "metadata": {
        "id": "TcTtmwO8Jdej"
      },
      "source": [
        "batch_size = 25\n",
        "learning_rate = 0.001\n",
        "num_epochs = 30\n",
        "\n",
        "transform = transforms.Compose(\n",
        "    [transforms.ToTensor(),\n",
        "     transforms.Normalize((0.5, 0.5, 0.5), (0.5, 0.5, 0.5))])"
      ],
      "execution_count": null,
      "outputs": []
    },
    {
      "cell_type": "code",
      "metadata": {
        "id": "6EY4vFo0iC1n"
      },
      "source": [
        "class CollectData(Dataset):\n",
        "    def __init__(self, x):\n",
        "        self.X = x\n",
        "        \n",
        "    def __len__(self):\n",
        "        return len(self.X)\n",
        "    def __getitem__(self, index):\n",
        "        label = torch.tensor(self.X[index][1])\n",
        "        img = transform(self.X[index][0])\n",
        "        return (img, label)"
      ],
      "execution_count": null,
      "outputs": []
    },
    {
      "cell_type": "code",
      "metadata": {
        "id": "58jqz_L2aFm6"
      },
      "source": [
        "training_data = np.load('gdrive/My Drive/Colab Notebooks/Dataset/training_data.npy', allow_pickle=True)"
      ],
      "execution_count": null,
      "outputs": []
    },
    {
      "cell_type": "code",
      "metadata": {
        "colab": {
          "base_uri": "https://localhost:8080/"
        },
        "id": "MPEQ1i6bqm4n",
        "outputId": "7d099361-6b10-4ebc-d166-b9b06c915d8b"
      },
      "source": [
        "training_data.shape"
      ],
      "execution_count": null,
      "outputs": [
        {
          "output_type": "execute_result",
          "data": {
            "text/plain": [
              "(24946, 2)"
            ]
          },
          "metadata": {
            "tags": []
          },
          "execution_count": 6
        }
      ]
    },
    {
      "cell_type": "code",
      "metadata": {
        "id": "89oOKZFqbHK7"
      },
      "source": [
        "dataset = CollectData(training_data)"
      ],
      "execution_count": null,
      "outputs": []
    },
    {
      "cell_type": "code",
      "metadata": {
        "id": "Ey3wglook1Xg",
        "colab": {
          "base_uri": "https://localhost:8080/"
        },
        "outputId": "9d96db22-1124-465f-c70f-64c87c740477"
      },
      "source": [
        "len(dataset)"
      ],
      "execution_count": null,
      "outputs": [
        {
          "output_type": "execute_result",
          "data": {
            "text/plain": [
              "24946"
            ]
          },
          "metadata": {
            "tags": []
          },
          "execution_count": 8
        }
      ]
    },
    {
      "cell_type": "code",
      "metadata": {
        "id": "fgJrQTKNlAZN"
      },
      "source": [
        "train_dataset, test_dataset = torch.utils.data.random_split(dataset, [19946, 5000])\n",
        "train_loader = torch.utils.data.DataLoader(train_dataset, batch_size=batch_size,\n",
        "                                           shuffle=True)\n",
        "test_loader = torch.utils.data.DataLoader(test_dataset, batch_size=batch_size,\n",
        "                                           shuffle=False)"
      ],
      "execution_count": null,
      "outputs": []
    },
    {
      "cell_type": "code",
      "metadata": {
        "id": "TXS6jOT6lBNF"
      },
      "source": [
        "class CNN(nn.Module):\n",
        "    def __init__(self):\n",
        "        super(CNN, self).__init__()\n",
        "        self.conv1 = nn.Conv2d(3,64,3, padding='same')\n",
        "        self.pool = nn.MaxPool2d(2,2)\n",
        "        self.conv2 = nn.Conv2d(64, 128, 3, padding='same')\n",
        "        self.fc1 = nn.Linear(128*8*8, 256)\n",
        "        self.fc2 = nn.Linear(256, 128)\n",
        "        self.fc3 = nn.Linear(128, 2)\n",
        "\n",
        "    def forward(self, x):\n",
        "        x = self.pool(F.relu(self.conv1(x)))\n",
        "        x = self.pool(F.relu(self.conv2(x)))\n",
        "        x = x.view(-1, 128*8*8)\n",
        "        x = F.relu(self.fc1(x))\n",
        "        x = F.relu(self.fc2(x))\n",
        "        x = self.fc3(x)\n",
        "        return x"
      ],
      "execution_count": null,
      "outputs": []
    },
    {
      "cell_type": "code",
      "metadata": {
        "id": "RulGAAkRl9Qt"
      },
      "source": [
        "model = CNN()\n",
        "criterion = nn.CrossEntropyLoss()\n",
        "optimizer = torch.optim.SGD(model.parameters(), lr=learning_rate)"
      ],
      "execution_count": null,
      "outputs": []
    },
    {
      "cell_type": "code",
      "metadata": {
        "colab": {
          "base_uri": "https://localhost:8080/"
        },
        "id": "x20XviOXJnEJ",
        "outputId": "d1d06499-5423-4c49-e23b-1bff62454868"
      },
      "source": [
        "n_total_steps = len(train_loader)\n",
        "for epoch in range(num_epochs):\n",
        "    for i, (image, labels) in enumerate(train_loader):\n",
        "        output = model(image)\n",
        "        loss = criterion(output, labels)\n",
        "\n",
        "        optimizer.zero_grad()\n",
        "        loss.backward()\n",
        "        optimizer.step()\n",
        "\n",
        "        if (i+1) % 1000 == 0:\n",
        "            print (f'Epoch [{epoch+1}/{num_epochs}], Step [{i+1}/{n_total_steps}], Loss: {loss.item():.4f}')\n",
        "    print(f\"Epoch {epoch}: Loss: {loss.item():.4f} and only loss: {loss}\")\n",
        "\n"
      ],
      "execution_count": null,
      "outputs": [
        {
          "output_type": "stream",
          "text": [
            "Epoch 0: Loss: 0.6901 and only loss: 0.6901334524154663\n",
            "Epoch 1: Loss: 0.6866 and only loss: 0.6865555047988892\n",
            "Epoch 2: Loss: 0.6911 and only loss: 0.6910544633865356\n",
            "Epoch 3: Loss: 0.6905 and only loss: 0.6905495524406433\n",
            "Epoch 4: Loss: 0.6907 and only loss: 0.6906701326370239\n",
            "Epoch 5: Loss: 0.6859 and only loss: 0.6858856081962585\n",
            "Epoch 6: Loss: 0.6587 and only loss: 0.6587393283843994\n",
            "Epoch 7: Loss: 0.6464 and only loss: 0.6464282870292664\n",
            "Epoch 8: Loss: 0.6541 and only loss: 0.654095470905304\n",
            "Epoch 9: Loss: 0.6651 and only loss: 0.6650972366333008\n",
            "Epoch 10: Loss: 0.5819 and only loss: 0.5818589329719543\n",
            "Epoch 11: Loss: 0.5889 and only loss: 0.5889167785644531\n",
            "Epoch 12: Loss: 0.6596 and only loss: 0.6596115231513977\n",
            "Epoch 13: Loss: 0.6007 and only loss: 0.600652813911438\n",
            "Epoch 14: Loss: 0.6282 and only loss: 0.6282467842102051\n",
            "Epoch 15: Loss: 0.5579 and only loss: 0.5579371452331543\n",
            "Epoch 16: Loss: 0.5539 and only loss: 0.5538761615753174\n",
            "Epoch 17: Loss: 0.6552 and only loss: 0.6551506519317627\n",
            "Epoch 18: Loss: 0.6646 and only loss: 0.6645795106887817\n",
            "Epoch 19: Loss: 0.3834 and only loss: 0.38344624638557434\n",
            "Epoch 20: Loss: 0.5719 and only loss: 0.5718536972999573\n",
            "Epoch 21: Loss: 0.6022 and only loss: 0.6021854281425476\n",
            "Epoch 22: Loss: 0.5658 and only loss: 0.565830647945404\n",
            "Epoch 23: Loss: 0.6021 and only loss: 0.6021474599838257\n",
            "Epoch 24: Loss: 0.5218 and only loss: 0.5218119621276855\n",
            "Epoch 25: Loss: 0.4997 and only loss: 0.49965977668762207\n",
            "Epoch 26: Loss: 0.6418 and only loss: 0.6417533159255981\n",
            "Epoch 27: Loss: 0.5043 and only loss: 0.5042835474014282\n",
            "Epoch 28: Loss: 0.5605 and only loss: 0.560484766960144\n",
            "Epoch 29: Loss: 0.4209 and only loss: 0.42091700434684753\n"
          ],
          "name": "stdout"
        }
      ]
    },
    {
      "cell_type": "code",
      "metadata": {
        "colab": {
          "base_uri": "https://localhost:8080/"
        },
        "id": "rTia_FBaSYD7",
        "outputId": "6dcc269d-f5cb-4f6e-bc0d-bf13d5370903"
      },
      "source": [
        "for image, labels in test_loader:\n",
        "    print(labels.shape)\n",
        "    break"
      ],
      "execution_count": null,
      "outputs": [
        {
          "output_type": "stream",
          "text": [
            "torch.Size([32])\n"
          ],
          "name": "stdout"
        }
      ]
    },
    {
      "cell_type": "code",
      "metadata": {
        "id": "-ug8APDrXRoM"
      },
      "source": [
        "classes = ('Cat', 'Dog')"
      ],
      "execution_count": null,
      "outputs": []
    },
    {
      "cell_type": "code",
      "metadata": {
        "colab": {
          "base_uri": "https://localhost:8080/"
        },
        "id": "l7KqqdxIJzEB",
        "outputId": "847bfc08-60dc-4f02-9acf-9dfc49301971"
      },
      "source": [
        "with torch.no_grad():\n",
        "    n_correct = 0\n",
        "    n_samples = 0\n",
        "    n_class_correct = [0 for i in range(2)]\n",
        "    n_class_samples = [0 for i in range(2)]\n",
        "\n",
        "    for image, labels in test_loader:\n",
        "        #print(labels)\n",
        "        output = model(image)\n",
        "        _, predicted = torch.max(output, 1)\n",
        "        n_samples += labels.size(0)\n",
        "        n_correct += (predicted == labels).sum().item()\n",
        "\n",
        "        for i in range(batch_size):\n",
        "            label = labels[i]\n",
        "            pred = predicted[i]\n",
        "            if (label == pred):\n",
        "                n_class_correct[label] += 1\n",
        "            n_class_samples[label] += 1\n",
        "    acc = 100.0 * n_correct / n_samples\n",
        "    print(f\"Accuracy of the network: {acc} %\")\n",
        "\n",
        "    for i in range(2):\n",
        "        acc = 100.0 * n_class_correct[i] / n_class_samples[i]\n",
        "        print(f\"Accuracy of {classes[i]}: {acc}%\")"
      ],
      "execution_count": null,
      "outputs": [
        {
          "output_type": "stream",
          "text": [
            "Accuracy of the network: 71.22 %\n",
            "Accuracy of Cat: 59.2607472880675%\n",
            "Accuracy of Dog: 83.07447232178416%\n"
          ],
          "name": "stdout"
        }
      ]
    },
    {
      "cell_type": "code",
      "metadata": {
        "colab": {
          "base_uri": "https://localhost:8080/"
        },
        "id": "XXZQJEPD-bQB",
        "outputId": "9f942f46-6c06-4d80-c69f-f8981666e8ef"
      },
      "source": [
        "import cv2 as cv\n",
        "test_cat = cv.imread(\"dog.jpg\")\n",
        "test_cat = cv.resize(test_cat, (32, 32))\n",
        "test_cat = transform(test_cat)\n",
        "test_cat = test_cat.reshape(1,3,32,32)\n",
        "output = model(test_cat)\n",
        "predicted = torch.argmax(output)\n",
        "predicted, output"
      ],
      "execution_count": null,
      "outputs": [
        {
          "output_type": "execute_result",
          "data": {
            "text/plain": [
              "(tensor(1), tensor([[-1.7785,  1.9813]], grad_fn=<AddmmBackward>))"
            ]
          },
          "metadata": {
            "tags": []
          },
          "execution_count": 40
        }
      ]
    },
    {
      "cell_type": "code",
      "metadata": {
        "id": "-HqHR3634Zuq"
      },
      "source": [
        "dataiter = iter(train_loader)\n",
        "images, labels = dataiter.next()"
      ],
      "execution_count": null,
      "outputs": []
    },
    {
      "cell_type": "code",
      "metadata": {
        "colab": {
          "base_uri": "https://localhost:8080/"
        },
        "id": "QXcO6BIy4gcn",
        "outputId": "2d042be7-741a-4f7c-ceb9-c1080381703f"
      },
      "source": [
        "images.shape"
      ],
      "execution_count": null,
      "outputs": [
        {
          "output_type": "execute_result",
          "data": {
            "text/plain": [
              "torch.Size([25, 3, 32, 32])"
            ]
          },
          "metadata": {
            "tags": []
          },
          "execution_count": 12
        }
      ]
    },
    {
      "cell_type": "code",
      "metadata": {
        "id": "fIwWoh6kO6YR"
      },
      "source": [
        "conv1 = nn.Conv2d(3,64,3, padding='same')\n",
        "pool = nn.MaxPool2d(2,2)\n",
        "conv2 = nn.Conv2d(64, 128, 3, padding='same')"
      ],
      "execution_count": null,
      "outputs": []
    },
    {
      "cell_type": "code",
      "metadata": {
        "colab": {
          "base_uri": "https://localhost:8080/"
        },
        "id": "7Guj01xj4lvw",
        "outputId": "f37fbf4b-684c-414e-dc26-a68048b275f6"
      },
      "source": [
        "x = conv1(images)\n",
        "print(x.shape)\n",
        "x = pool(x)\n",
        "print(x.shape)\n",
        "x = conv2(x)\n",
        "print(x.shape)\n",
        "x = pool(x)\n",
        "print(x.shape)"
      ],
      "execution_count": null,
      "outputs": [
        {
          "output_type": "stream",
          "text": [
            "torch.Size([25, 64, 32, 32])\n",
            "torch.Size([25, 64, 16, 16])\n",
            "torch.Size([25, 128, 16, 16])\n",
            "torch.Size([25, 128, 8, 8])\n"
          ],
          "name": "stdout"
        }
      ]
    },
    {
      "cell_type": "code",
      "metadata": {
        "id": "xNlduDvY4pFo"
      },
      "source": [
        ""
      ],
      "execution_count": null,
      "outputs": []
    }
  ]
}