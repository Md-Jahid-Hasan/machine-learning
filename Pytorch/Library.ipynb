{
 "cells": [
  {
   "cell_type": "code",
   "execution_count": 25,
   "metadata": {},
   "outputs": [],
   "source": [
    "from torch.utils.data import DataLoader, Dataset\n",
    "from tqdm import tqdm\n",
    "import os\n",
    "import cv2\n",
    "import numpy as np"
   ]
  },
  {
   "cell_type": "code",
   "execution_count": 2,
   "metadata": {},
   "outputs": [],
   "source": [
    "class CollectData(Dataset):\n",
    "    def __init__(self, x):\n",
    "        self.X = x\n",
    "        \n",
    "    def __len__(self):\n",
    "        return len(self.X)\n",
    "    def __getitem__(self, index):\n",
    "        label = torch.tensor(self.X[index][1])\n",
    "        img = transform(self.X[index][0])\n",
    "        return (img, label)"
   ]
  },
  {
   "cell_type": "code",
   "execution_count": 22,
   "metadata": {},
   "outputs": [],
   "source": [
    "data_location = {\n",
    "    \"CAT\":\"F:\\Dataset\\PetImages\\Cat\",\n",
    "    \"DOG\": \"F:\\Dataset\\PetImages\\Dog\",\n",
    "    #\"TEST\": \"F:\\Dataset\\PetImages\\Test\",\n",
    "}"
   ]
  },
  {
   "cell_type": "code",
   "execution_count": 72,
   "metadata": {},
   "outputs": [],
   "source": [
    "class StoreData():\n",
    "    IMG_SIZE = 32\n",
    "    LABELS = []\n",
    "    LOCATION = []\n",
    "    training_data = []\n",
    "    def make_training_data(self):\n",
    "        for k,v in data_location.items():\n",
    "            self.LABELS.append(k)\n",
    "            self.LOCATION.append(v)\n",
    "            \n",
    "        for id, label in enumerate(self.LABELS):\n",
    "            \n",
    "            for file in tqdm(os.listdir(data_location[label])):\n",
    "                \n",
    "                if \"jpg\" in file:\n",
    "                    \n",
    "                    try:\n",
    "                        path = os.path.join(data_location[label], file)\n",
    "                        img = cv2.imread(path)\n",
    "                        img = cv2.resize(img, (self.IMG_SIZE, self.IMG_SIZE))\n",
    "                        self.training_data.append([np.array(img), id])\n",
    "                    except Exception as e:\n",
    "                        pass\n",
    "            print(label, \" -> \", id)\n",
    "\n",
    "        np.save(\"training_data.npy\", self.training_data)\n",
    "        return self.training_data"
   ]
  },
  {
   "cell_type": "code",
   "execution_count": 73,
   "metadata": {},
   "outputs": [
    {
     "name": "stderr",
     "output_type": "stream",
     "text": [
      "100%|████████████████████████████████████████████████████████████████████████████| 12501/12501 [03:19<00:00, 62.71it/s]\n",
      "  0%|                                                                              | 14/12501 [00:00<01:34, 132.43it/s]"
     ]
    },
    {
     "name": "stdout",
     "output_type": "stream",
     "text": [
      "CAT  ->  0\n"
     ]
    },
    {
     "name": "stderr",
     "output_type": "stream",
     "text": [
      "100%|████████████████████████████████████████████████████████████████████████████| 12501/12501 [02:05<00:00, 99.99it/s]\n",
      "C:\\Users\\Asus\\anaconda3\\lib\\site-packages\\numpy\\core\\_asarray.py:136: VisibleDeprecationWarning: Creating an ndarray from ragged nested sequences (which is a list-or-tuple of lists-or-tuples-or ndarrays with different lengths or shapes) is deprecated. If you meant to do this, you must specify 'dtype=object' when creating the ndarray\n",
      "  return array(a, dtype, copy=False, order=order, subok=True)\n"
     ]
    },
    {
     "name": "stdout",
     "output_type": "stream",
     "text": [
      "DOG  ->  1\n"
     ]
    }
   ],
   "source": [
    "t = StoreData()\n",
    "a = t.make_training_data()"
   ]
  }
 ],
 "metadata": {
  "kernelspec": {
   "display_name": "Python 3",
   "language": "python",
   "name": "python3"
  },
  "language_info": {
   "codemirror_mode": {
    "name": "ipython",
    "version": 3
   },
   "file_extension": ".py",
   "mimetype": "text/x-python",
   "name": "python",
   "nbconvert_exporter": "python",
   "pygments_lexer": "ipython3",
   "version": "3.8.5"
  }
 },
 "nbformat": 4,
 "nbformat_minor": 4
}
